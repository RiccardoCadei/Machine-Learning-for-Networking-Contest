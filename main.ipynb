{
 "cells": [
  {
   "cell_type": "markdown",
   "metadata": {},
   "source": [
    "# Loading the Data"
   ]
  },
  {
   "cell_type": "code",
   "execution_count": 1,
   "metadata": {
    "scrolled": true
   },
   "outputs": [
    {
     "data": {
      "text/html": [
       "<div>\n",
       "<style scoped>\n",
       "    .dataframe tbody tr th:only-of-type {\n",
       "        vertical-align: middle;\n",
       "    }\n",
       "\n",
       "    .dataframe tbody tr th {\n",
       "        vertical-align: top;\n",
       "    }\n",
       "\n",
       "    .dataframe thead th {\n",
       "        text-align: right;\n",
       "    }\n",
       "</style>\n",
       "<table border=\"1\" class=\"dataframe\">\n",
       "  <thead>\n",
       "    <tr style=\"text-align: right;\">\n",
       "      <th></th>\n",
       "      <th>User_Id</th>\n",
       "      <th>Cumulative_YoutubeSess_LTE_DL_Time</th>\n",
       "      <th>Cumulative_YoutubeSess_LTE_DL_Volume</th>\n",
       "      <th>Cumulative_YoutubeSess_UMTS_DL_Time</th>\n",
       "      <th>Cumulative_YoutubeSess_UMTS_DL_Volume</th>\n",
       "      <th>Max_RSRQ</th>\n",
       "      <th>Max_SNR</th>\n",
       "      <th>Cumulative_Full_Service_Time_UMTS</th>\n",
       "      <th>Cumulative_Lim_Service_Time_UMTS</th>\n",
       "      <th>Cumulative_No_Service_Time_UMTS</th>\n",
       "      <th>Cumulative_Full_Service_Time_LTE</th>\n",
       "      <th>Cumulative_Lim_Service_Time_LTE</th>\n",
       "      <th>Cumulative_No_Service_Time_LTE</th>\n",
       "      <th>User_Satisfaction</th>\n",
       "    </tr>\n",
       "  </thead>\n",
       "  <tbody>\n",
       "    <tr>\n",
       "      <th>0</th>\n",
       "      <td>17914</td>\n",
       "      <td>673.920</td>\n",
       "      <td>527582</td>\n",
       "      <td>351.893</td>\n",
       "      <td>41261</td>\n",
       "      <td>-3</td>\n",
       "      <td>-19.9</td>\n",
       "      <td>107685</td>\n",
       "      <td>1466</td>\n",
       "      <td>905</td>\n",
       "      <td>136709</td>\n",
       "      <td>4258</td>\n",
       "      <td>2002</td>\n",
       "      <td>0</td>\n",
       "    </tr>\n",
       "    <tr>\n",
       "      <th>1</th>\n",
       "      <td>2606</td>\n",
       "      <td>2.172</td>\n",
       "      <td>37</td>\n",
       "      <td>0.000</td>\n",
       "      <td>0</td>\n",
       "      <td>-7</td>\n",
       "      <td>27.4</td>\n",
       "      <td>58873</td>\n",
       "      <td>2475</td>\n",
       "      <td>1292</td>\n",
       "      <td>152668</td>\n",
       "      <td>2156</td>\n",
       "      <td>4623</td>\n",
       "      <td>0</td>\n",
       "    </tr>\n",
       "    <tr>\n",
       "      <th>2</th>\n",
       "      <td>21473</td>\n",
       "      <td>22.386</td>\n",
       "      <td>20267</td>\n",
       "      <td>0.000</td>\n",
       "      <td>0</td>\n",
       "      <td>-11</td>\n",
       "      <td>9.8</td>\n",
       "      <td>35710</td>\n",
       "      <td>942</td>\n",
       "      <td>4039</td>\n",
       "      <td>90970</td>\n",
       "      <td>1100</td>\n",
       "      <td>3346</td>\n",
       "      <td>0</td>\n",
       "    </tr>\n",
       "    <tr>\n",
       "      <th>3</th>\n",
       "      <td>11825</td>\n",
       "      <td>3617.853</td>\n",
       "      <td>1383189</td>\n",
       "      <td>225.367</td>\n",
       "      <td>65340</td>\n",
       "      <td>-3</td>\n",
       "      <td>-19.9</td>\n",
       "      <td>30919</td>\n",
       "      <td>5348</td>\n",
       "      <td>4987</td>\n",
       "      <td>154527</td>\n",
       "      <td>1733</td>\n",
       "      <td>5394</td>\n",
       "      <td>1</td>\n",
       "    </tr>\n",
       "    <tr>\n",
       "      <th>4</th>\n",
       "      <td>15844</td>\n",
       "      <td>62.493</td>\n",
       "      <td>20774</td>\n",
       "      <td>0.000</td>\n",
       "      <td>0</td>\n",
       "      <td>-4</td>\n",
       "      <td>-19.8</td>\n",
       "      <td>981</td>\n",
       "      <td>2067</td>\n",
       "      <td>2830</td>\n",
       "      <td>114023</td>\n",
       "      <td>2726</td>\n",
       "      <td>13684</td>\n",
       "      <td>1</td>\n",
       "    </tr>\n",
       "  </tbody>\n",
       "</table>\n",
       "</div>"
      ],
      "text/plain": [
       "   User_Id  Cumulative_YoutubeSess_LTE_DL_Time  \\\n",
       "0    17914                             673.920   \n",
       "1     2606                               2.172   \n",
       "2    21473                              22.386   \n",
       "3    11825                            3617.853   \n",
       "4    15844                              62.493   \n",
       "\n",
       "   Cumulative_YoutubeSess_LTE_DL_Volume  Cumulative_YoutubeSess_UMTS_DL_Time  \\\n",
       "0                                527582                              351.893   \n",
       "1                                    37                                0.000   \n",
       "2                                 20267                                0.000   \n",
       "3                               1383189                              225.367   \n",
       "4                                 20774                                0.000   \n",
       "\n",
       "   Cumulative_YoutubeSess_UMTS_DL_Volume  Max_RSRQ  Max_SNR  \\\n",
       "0                                  41261        -3    -19.9   \n",
       "1                                      0        -7     27.4   \n",
       "2                                      0       -11      9.8   \n",
       "3                                  65340        -3    -19.9   \n",
       "4                                      0        -4    -19.8   \n",
       "\n",
       "   Cumulative_Full_Service_Time_UMTS  Cumulative_Lim_Service_Time_UMTS  \\\n",
       "0                             107685                              1466   \n",
       "1                              58873                              2475   \n",
       "2                              35710                               942   \n",
       "3                              30919                              5348   \n",
       "4                                981                              2067   \n",
       "\n",
       "   Cumulative_No_Service_Time_UMTS  Cumulative_Full_Service_Time_LTE  \\\n",
       "0                              905                            136709   \n",
       "1                             1292                            152668   \n",
       "2                             4039                             90970   \n",
       "3                             4987                            154527   \n",
       "4                             2830                            114023   \n",
       "\n",
       "   Cumulative_Lim_Service_Time_LTE  Cumulative_No_Service_Time_LTE  \\\n",
       "0                             4258                            2002   \n",
       "1                             2156                            4623   \n",
       "2                             1100                            3346   \n",
       "3                             1733                            5394   \n",
       "4                             2726                           13684   \n",
       "\n",
       "   User_Satisfaction  \n",
       "0                  0  \n",
       "1                  0  \n",
       "2                  0  \n",
       "3                  1  \n",
       "4                  1  "
      ]
     },
     "execution_count": 1,
     "metadata": {},
     "output_type": "execute_result"
    }
   ],
   "source": [
    "import pandas as pd\n",
    "import numpy as np\n",
    "usertr = pd.read_csv('data\\\\train_data.csv')\n",
    "userte = pd.read_csv('data\\\\test_data.csv')\n",
    "User_Id=userte.User_Id\n",
    "usertr.head()"
   ]
  },
  {
   "cell_type": "code",
   "execution_count": 2,
   "metadata": {},
   "outputs": [
    {
     "data": {
      "text/html": [
       "<div>\n",
       "<style scoped>\n",
       "    .dataframe tbody tr th:only-of-type {\n",
       "        vertical-align: middle;\n",
       "    }\n",
       "\n",
       "    .dataframe tbody tr th {\n",
       "        vertical-align: top;\n",
       "    }\n",
       "\n",
       "    .dataframe thead th {\n",
       "        text-align: right;\n",
       "    }\n",
       "</style>\n",
       "<table border=\"1\" class=\"dataframe\">\n",
       "  <thead>\n",
       "    <tr style=\"text-align: right;\">\n",
       "      <th></th>\n",
       "      <th>User_Id</th>\n",
       "      <th>Cumulative_YoutubeSess_LTE_DL_Time</th>\n",
       "      <th>Cumulative_YoutubeSess_LTE_DL_Volume</th>\n",
       "      <th>Cumulative_YoutubeSess_UMTS_DL_Time</th>\n",
       "      <th>Cumulative_YoutubeSess_UMTS_DL_Volume</th>\n",
       "      <th>Max_RSRQ</th>\n",
       "      <th>Max_SNR</th>\n",
       "      <th>Cumulative_Full_Service_Time_UMTS</th>\n",
       "      <th>Cumulative_Lim_Service_Time_UMTS</th>\n",
       "      <th>Cumulative_No_Service_Time_UMTS</th>\n",
       "      <th>Cumulative_Full_Service_Time_LTE</th>\n",
       "      <th>Cumulative_Lim_Service_Time_LTE</th>\n",
       "      <th>Cumulative_No_Service_Time_LTE</th>\n",
       "    </tr>\n",
       "    <tr>\n",
       "      <th>User_Satisfaction</th>\n",
       "      <th></th>\n",
       "      <th></th>\n",
       "      <th></th>\n",
       "      <th></th>\n",
       "      <th></th>\n",
       "      <th></th>\n",
       "      <th></th>\n",
       "      <th></th>\n",
       "      <th></th>\n",
       "      <th></th>\n",
       "      <th></th>\n",
       "      <th></th>\n",
       "      <th></th>\n",
       "    </tr>\n",
       "  </thead>\n",
       "  <tbody>\n",
       "    <tr>\n",
       "      <th>0</th>\n",
       "      <td>11845.285073</td>\n",
       "      <td>480.969855</td>\n",
       "      <td>257791.034010</td>\n",
       "      <td>109.893042</td>\n",
       "      <td>22299.533970</td>\n",
       "      <td>-5.251063</td>\n",
       "      <td>10.553766</td>\n",
       "      <td>76232.039625</td>\n",
       "      <td>3568.055587</td>\n",
       "      <td>1846.150798</td>\n",
       "      <td>162665.666560</td>\n",
       "      <td>2826.703858</td>\n",
       "      <td>5242.263255</td>\n",
       "    </tr>\n",
       "    <tr>\n",
       "      <th>1</th>\n",
       "      <td>11782.259439</td>\n",
       "      <td>501.661957</td>\n",
       "      <td>215908.052275</td>\n",
       "      <td>103.918285</td>\n",
       "      <td>19486.853098</td>\n",
       "      <td>-5.498790</td>\n",
       "      <td>7.632793</td>\n",
       "      <td>60674.434898</td>\n",
       "      <td>4286.820426</td>\n",
       "      <td>1946.305905</td>\n",
       "      <td>145873.178848</td>\n",
       "      <td>3096.002904</td>\n",
       "      <td>5432.052275</td>\n",
       "    </tr>\n",
       "  </tbody>\n",
       "</table>\n",
       "</div>"
      ],
      "text/plain": [
       "                        User_Id  Cumulative_YoutubeSess_LTE_DL_Time  \\\n",
       "User_Satisfaction                                                     \n",
       "0                  11845.285073                          480.969855   \n",
       "1                  11782.259439                          501.661957   \n",
       "\n",
       "                   Cumulative_YoutubeSess_LTE_DL_Volume  \\\n",
       "User_Satisfaction                                         \n",
       "0                                         257791.034010   \n",
       "1                                         215908.052275   \n",
       "\n",
       "                   Cumulative_YoutubeSess_UMTS_DL_Time  \\\n",
       "User_Satisfaction                                        \n",
       "0                                           109.893042   \n",
       "1                                           103.918285   \n",
       "\n",
       "                   Cumulative_YoutubeSess_UMTS_DL_Volume  Max_RSRQ    Max_SNR  \\\n",
       "User_Satisfaction                                                               \n",
       "0                                           22299.533970 -5.251063  10.553766   \n",
       "1                                           19486.853098 -5.498790   7.632793   \n",
       "\n",
       "                   Cumulative_Full_Service_Time_UMTS  \\\n",
       "User_Satisfaction                                      \n",
       "0                                       76232.039625   \n",
       "1                                       60674.434898   \n",
       "\n",
       "                   Cumulative_Lim_Service_Time_UMTS  \\\n",
       "User_Satisfaction                                     \n",
       "0                                       3568.055587   \n",
       "1                                       4286.820426   \n",
       "\n",
       "                   Cumulative_No_Service_Time_UMTS  \\\n",
       "User_Satisfaction                                    \n",
       "0                                      1846.150798   \n",
       "1                                      1946.305905   \n",
       "\n",
       "                   Cumulative_Full_Service_Time_LTE  \\\n",
       "User_Satisfaction                                     \n",
       "0                                     162665.666560   \n",
       "1                                     145873.178848   \n",
       "\n",
       "                   Cumulative_Lim_Service_Time_LTE  \\\n",
       "User_Satisfaction                                    \n",
       "0                                      2826.703858   \n",
       "1                                      3096.002904   \n",
       "\n",
       "                   Cumulative_No_Service_Time_LTE  \n",
       "User_Satisfaction                                  \n",
       "0                                     5242.263255  \n",
       "1                                     5432.052275  "
      ]
     },
     "execution_count": 2,
     "metadata": {},
     "output_type": "execute_result"
    }
   ],
   "source": [
    "usertr.groupby('User_Satisfaction').mean()"
   ]
  },
  {
   "cell_type": "code",
   "execution_count": 3,
   "metadata": {},
   "outputs": [
    {
     "name": "stdout",
     "output_type": "stream",
     "text": [
      "We know 13 network measurements of 23713 users.\n",
      "Of these: 16599 users have reviewed the service, 7114 no.\n",
      "From 16599 users who have reviewed the service, 4132 aren't fulfilled, i.e. the 0.248930658473402 %\n"
     ]
    }
   ],
   "source": [
    "print(f'We know {usertr.shape[1]-1} network measurements of {usertr.shape[0]+userte.shape[0]} users.')\n",
    "print(f'Of these: {usertr.shape[0]} users have reviewed the service, {userte.shape[0]} no.')\n",
    "\n",
    "satisfacted = 0\n",
    "for count in range(usertr.shape[0]):\n",
    "    if usertr.User_Satisfaction[count]==1:\n",
    "        satisfacted += 1\n",
    "        \n",
    "print(f'From {usertr.shape[0]} users who have reviewed the service, {satisfacted} aren\\'t fulfilled, i.e. the {satisfacted/usertr.shape[0]} %')"
   ]
  },
  {
   "cell_type": "markdown",
   "metadata": {},
   "source": [
    "# New features"
   ]
  },
  {
   "cell_type": "code",
   "execution_count": 4,
   "metadata": {},
   "outputs": [
    {
     "name": "stderr",
     "output_type": "stream",
     "text": [
      "C:\\Users\\Riccardo\\Desktop\\Machine Learning for Networking - Challenge\\preprocessing.py:24: UserWarning: Pandas doesn't allow columns to be created via a new attribute name - see https://pandas.pydata.org/pandas-docs/stable/indexing.html#attribute-access\n",
      "  usertr.UMTS_tot=(usertr.Cumulative_Full_Service_Time_UMTS+usertr.Cumulative_Lim_Service_Time_UMTS+usertr.Cumulative_No_Service_Time_UMTS)\n",
      "C:\\Users\\Riccardo\\Desktop\\Machine Learning for Networking - Challenge\\preprocessing.py:46: SettingWithCopyWarning: \n",
      "A value is trying to be set on a copy of a slice from a DataFrame\n",
      "\n",
      "See the caveats in the documentation: http://pandas.pydata.org/pandas-docs/stable/indexing.html#indexing-view-versus-copy\n",
      "  usertr.UMTS_speed[i]=b\n",
      "C:\\Users\\Riccardo\\Desktop\\Machine Learning for Networking - Challenge\\preprocessing.py:44: SettingWithCopyWarning: \n",
      "A value is trying to be set on a copy of a slice from a DataFrame\n",
      "\n",
      "See the caveats in the documentation: http://pandas.pydata.org/pandas-docs/stable/indexing.html#indexing-view-versus-copy\n",
      "  usertr.LTE_speed[i]=a\n"
     ]
    }
   ],
   "source": [
    "from preprocessing import preprocessing\n",
    "\n",
    "usertr = preprocessing(usertr)\n",
    "userte = preprocessing(userte)"
   ]
  },
  {
   "cell_type": "markdown",
   "metadata": {},
   "source": [
    "# Splitting the dataset"
   ]
  },
  {
   "cell_type": "markdown",
   "metadata": {},
   "source": [
    "#### with Preprocessing"
   ]
  },
  {
   "cell_type": "code",
   "execution_count": 7,
   "metadata": {},
   "outputs": [],
   "source": [
    "#feature_names = [\"Cumulative_YoutubeSess_LTE_DL_Time\",\"Cumulative_YoutubeSess_LTE_DL_Volume\",\"Cumulative_YoutubeSess_UMTS_DL_Time\",\"Cumulative_YoutubeSess_UMTS_DL_Volume\",\"Max_SNR\",\"LTE_speed\",\"UMTS_speed\",\"UMTS_full\",\"UMTS_lim\",\"UMTS_no\",\"LTE_full\",\"LTE_lim\",\"LTE_no\",]\n",
    "#feature_names = [\"Max_SNR\",\"LTE_speed\",\"UMTS_speed\",\"UMTS_full\",\"UMTS_lim\",\"UMTS_no\",\"LTE_full\",\"LTE_lim\",\"LTE_no\",]\n",
    "feature_names = ['Cumulative_YoutubeSess_LTE_DL_Time','Cumulative_YoutubeSess_LTE_DL_Volume','Cumulative_YoutubeSess_UMTS_DL_Time','Cumulative_YoutubeSess_UMTS_DL_Volume','Max_SNR','Max_RSRQ','p1','p2','YT','UMTS_full','UMTS_lim','UMTS_no','LTE_full','LTE_lim','LTE_no']\n",
    "X_train = usertr[feature_names]\n",
    "y_train = usertr['User_Satisfaction']\n",
    "X_test = userte[feature_names]"
   ]
  },
  {
   "cell_type": "code",
   "execution_count": 13,
   "metadata": {},
   "outputs": [
    {
     "name": "stderr",
     "output_type": "stream",
     "text": [
      "C:\\Users\\Riccardo\\Anaconda3\\lib\\site-packages\\sklearn\\preprocessing\\data.py:625: DataConversionWarning: Data with input dtype int64, float64 were all converted to float64 by StandardScaler.\n",
      "  return self.partial_fit(X, y)\n",
      "C:\\Users\\Riccardo\\Anaconda3\\lib\\site-packages\\sklearn\\base.py:462: DataConversionWarning: Data with input dtype int64, float64 were all converted to float64 by StandardScaler.\n",
      "  return self.fit(X, **fit_params).transform(X)\n",
      "C:\\Users\\Riccardo\\Anaconda3\\lib\\site-packages\\ipykernel_launcher.py:4: DataConversionWarning: Data with input dtype int64, float64 were all converted to float64 by StandardScaler.\n",
      "  after removing the cwd from sys.path.\n"
     ]
    }
   ],
   "source": [
    "from sklearn.preprocessing import StandardScaler  \n",
    "feature_scaler = StandardScaler()  \n",
    "X_train = feature_scaler.fit_transform(X_train)  \n",
    "X_test = feature_scaler.transform(X_test)  "
   ]
  },
  {
   "cell_type": "markdown",
   "metadata": {},
   "source": [
    "#### without Preprocessing"
   ]
  },
  {
   "cell_type": "code",
   "execution_count": 5,
   "metadata": {},
   "outputs": [],
   "source": [
    "feature_names = ['User_Id','Cumulative_YoutubeSess_LTE_DL_Time','Cumulative_YoutubeSess_LTE_DL_Volume','Cumulative_YoutubeSess_UMTS_DL_Time','Cumulative_YoutubeSess_UMTS_DL_Volume','Max_RSRQ','Max_SNR','Cumulative_Full_Service_Time_UMTS','Cumulative_Lim_Service_Time_UMTS','Cumulative_No_Service_Time_UMTS','Cumulative_Full_Service_Time_LTE','Cumulative_Lim_Service_Time_LTE','Cumulative_No_Service_Time_LTE','UMTS_full','UMTS_lim','UMTS_no','LTE_full','LTE_lim','LTE_no','LTE_tot','UMTS_tot']\n",
    "X_train = usertr[feature_names]\n",
    "y_train = usertr['User_Satisfaction']\n",
    "X_test = userte[feature_names]"
   ]
  },
  {
   "cell_type": "markdown",
   "metadata": {},
   "source": [
    "## Feature selection"
   ]
  },
  {
   "cell_type": "code",
   "execution_count": 8,
   "metadata": {},
   "outputs": [
    {
     "name": "stdout",
     "output_type": "stream",
     "text": [
      "0 features with greater than 0.60 missing values.\n",
      "\n",
      "0 features with a single unique value.\n",
      "\n",
      "0 features with a correlation magnitude greater than 0.98.\n",
      "\n",
      "Training Gradient Boosting Model\n",
      "\n",
      "Training until validation scores don't improve for 100 rounds.\n",
      "Early stopping, best iteration is:\n",
      "[413]\tvalid_0's binary_logloss: 0.292811\tvalid_0's auc: 0.927407\n",
      "Training until validation scores don't improve for 100 rounds.\n",
      "Early stopping, best iteration is:\n",
      "[281]\tvalid_0's binary_logloss: 0.282822\tvalid_0's auc: 0.934755\n",
      "Training until validation scores don't improve for 100 rounds.\n",
      "Early stopping, best iteration is:\n",
      "[195]\tvalid_0's binary_logloss: 0.288764\tvalid_0's auc: 0.930221\n",
      "Training until validation scores don't improve for 100 rounds.\n",
      "Early stopping, best iteration is:\n",
      "[212]\tvalid_0's binary_logloss: 0.305068\tvalid_0's auc: 0.926885\n",
      "Training until validation scores don't improve for 100 rounds.\n",
      "Early stopping, best iteration is:\n",
      "[326]\tvalid_0's binary_logloss: 0.297822\tvalid_0's auc: 0.9267\n",
      "Training until validation scores don't improve for 100 rounds.\n",
      "Early stopping, best iteration is:\n",
      "[357]\tvalid_0's binary_logloss: 0.291959\tvalid_0's auc: 0.92466\n",
      "Training until validation scores don't improve for 100 rounds.\n",
      "Early stopping, best iteration is:\n",
      "[283]\tvalid_0's binary_logloss: 0.302969\tvalid_0's auc: 0.922848\n",
      "Training until validation scores don't improve for 100 rounds.\n",
      "Early stopping, best iteration is:\n",
      "[350]\tvalid_0's binary_logloss: 0.301875\tvalid_0's auc: 0.92531\n",
      "Training until validation scores don't improve for 100 rounds.\n",
      "Early stopping, best iteration is:\n",
      "[128]\tvalid_0's binary_logloss: 0.310281\tvalid_0's auc: 0.922754\n",
      "Training until validation scores don't improve for 100 rounds.\n",
      "Early stopping, best iteration is:\n",
      "[238]\tvalid_0's binary_logloss: 0.293625\tvalid_0's auc: 0.927921\n",
      "\n",
      "0 features with zero importance after one-hot encoding.\n",
      "\n",
      "14 features required for cumulative importance of 0.99 after one hot encoding.\n",
      "1 features do not contribute to cumulative importance of 0.99.\n",
      "\n",
      "1 total features out of 15 identified for removal after one-hot encoding.\n",
      "\n",
      "['missing', 'single_unique', 'collinear', 'zero_importance', 'low_importance'] methods have been run\n",
      "\n",
      "Removed 1 features.\n"
     ]
    },
    {
     "data": {
      "text/html": [
       "<div>\n",
       "<style scoped>\n",
       "    .dataframe tbody tr th:only-of-type {\n",
       "        vertical-align: middle;\n",
       "    }\n",
       "\n",
       "    .dataframe tbody tr th {\n",
       "        vertical-align: top;\n",
       "    }\n",
       "\n",
       "    .dataframe thead th {\n",
       "        text-align: right;\n",
       "    }\n",
       "</style>\n",
       "<table border=\"1\" class=\"dataframe\">\n",
       "  <thead>\n",
       "    <tr style=\"text-align: right;\">\n",
       "      <th></th>\n",
       "      <th>Cumulative_YoutubeSess_LTE_DL_Time</th>\n",
       "      <th>Cumulative_YoutubeSess_LTE_DL_Volume</th>\n",
       "      <th>Cumulative_YoutubeSess_UMTS_DL_Time</th>\n",
       "      <th>Cumulative_YoutubeSess_UMTS_DL_Volume</th>\n",
       "      <th>Max_SNR</th>\n",
       "      <th>Max_RSRQ</th>\n",
       "      <th>p2</th>\n",
       "      <th>YT</th>\n",
       "      <th>UMTS_full</th>\n",
       "      <th>UMTS_lim</th>\n",
       "      <th>UMTS_no</th>\n",
       "      <th>LTE_full</th>\n",
       "      <th>LTE_lim</th>\n",
       "      <th>LTE_no</th>\n",
       "    </tr>\n",
       "  </thead>\n",
       "  <tbody>\n",
       "    <tr>\n",
       "      <th>0</th>\n",
       "      <td>673.920</td>\n",
       "      <td>527582</td>\n",
       "      <td>351.893</td>\n",
       "      <td>41261</td>\n",
       "      <td>1.258925e-20</td>\n",
       "      <td>1.000000e-03</td>\n",
       "      <td>554.528944</td>\n",
       "      <td>0.004054</td>\n",
       "      <td>0.978456</td>\n",
       "      <td>0.013320</td>\n",
       "      <td>0.008223</td>\n",
       "      <td>0.956214</td>\n",
       "      <td>0.029783</td>\n",
       "      <td>0.014003</td>\n",
       "    </tr>\n",
       "    <tr>\n",
       "      <th>1</th>\n",
       "      <td>2.172</td>\n",
       "      <td>37</td>\n",
       "      <td>0.000</td>\n",
       "      <td>0</td>\n",
       "      <td>2.511886e+27</td>\n",
       "      <td>1.000000e-07</td>\n",
       "      <td>17.034991</td>\n",
       "      <td>0.000010</td>\n",
       "      <td>0.939863</td>\n",
       "      <td>0.039511</td>\n",
       "      <td>0.020626</td>\n",
       "      <td>0.957484</td>\n",
       "      <td>0.013522</td>\n",
       "      <td>0.028994</td>\n",
       "    </tr>\n",
       "    <tr>\n",
       "      <th>2</th>\n",
       "      <td>22.386</td>\n",
       "      <td>20267</td>\n",
       "      <td>0.000</td>\n",
       "      <td>0</td>\n",
       "      <td>6.309573e+09</td>\n",
       "      <td>1.000000e-11</td>\n",
       "      <td>905.342625</td>\n",
       "      <td>0.000164</td>\n",
       "      <td>0.877590</td>\n",
       "      <td>0.023150</td>\n",
       "      <td>0.099260</td>\n",
       "      <td>0.953404</td>\n",
       "      <td>0.011528</td>\n",
       "      <td>0.035067</td>\n",
       "    </tr>\n",
       "    <tr>\n",
       "      <th>3</th>\n",
       "      <td>3617.853</td>\n",
       "      <td>1383189</td>\n",
       "      <td>225.367</td>\n",
       "      <td>65340</td>\n",
       "      <td>1.258925e-20</td>\n",
       "      <td>1.000000e-03</td>\n",
       "      <td>376.905043</td>\n",
       "      <td>0.018941</td>\n",
       "      <td>0.749479</td>\n",
       "      <td>0.129636</td>\n",
       "      <td>0.120885</td>\n",
       "      <td>0.955912</td>\n",
       "      <td>0.010720</td>\n",
       "      <td>0.033368</td>\n",
       "    </tr>\n",
       "    <tr>\n",
       "      <th>4</th>\n",
       "      <td>62.493</td>\n",
       "      <td>20774</td>\n",
       "      <td>0.000</td>\n",
       "      <td>0</td>\n",
       "      <td>1.584893e-20</td>\n",
       "      <td>1.000000e-04</td>\n",
       "      <td>332.421231</td>\n",
       "      <td>0.000458</td>\n",
       "      <td>0.166894</td>\n",
       "      <td>0.351650</td>\n",
       "      <td>0.481456</td>\n",
       "      <td>0.874188</td>\n",
       "      <td>0.020900</td>\n",
       "      <td>0.104912</td>\n",
       "    </tr>\n",
       "  </tbody>\n",
       "</table>\n",
       "</div>"
      ],
      "text/plain": [
       "   Cumulative_YoutubeSess_LTE_DL_Time  Cumulative_YoutubeSess_LTE_DL_Volume  \\\n",
       "0                             673.920                                527582   \n",
       "1                               2.172                                    37   \n",
       "2                              22.386                                 20267   \n",
       "3                            3617.853                               1383189   \n",
       "4                              62.493                                 20774   \n",
       "\n",
       "   Cumulative_YoutubeSess_UMTS_DL_Time  Cumulative_YoutubeSess_UMTS_DL_Volume  \\\n",
       "0                              351.893                                  41261   \n",
       "1                                0.000                                      0   \n",
       "2                                0.000                                      0   \n",
       "3                              225.367                                  65340   \n",
       "4                                0.000                                      0   \n",
       "\n",
       "        Max_SNR      Max_RSRQ          p2        YT  UMTS_full  UMTS_lim  \\\n",
       "0  1.258925e-20  1.000000e-03  554.528944  0.004054   0.978456  0.013320   \n",
       "1  2.511886e+27  1.000000e-07   17.034991  0.000010   0.939863  0.039511   \n",
       "2  6.309573e+09  1.000000e-11  905.342625  0.000164   0.877590  0.023150   \n",
       "3  1.258925e-20  1.000000e-03  376.905043  0.018941   0.749479  0.129636   \n",
       "4  1.584893e-20  1.000000e-04  332.421231  0.000458   0.166894  0.351650   \n",
       "\n",
       "    UMTS_no  LTE_full   LTE_lim    LTE_no  \n",
       "0  0.008223  0.956214  0.029783  0.014003  \n",
       "1  0.020626  0.957484  0.013522  0.028994  \n",
       "2  0.099260  0.953404  0.011528  0.035067  \n",
       "3  0.120885  0.955912  0.010720  0.033368  \n",
       "4  0.481456  0.874188  0.020900  0.104912  "
      ]
     },
     "execution_count": 8,
     "metadata": {},
     "output_type": "execute_result"
    }
   ],
   "source": [
    "from feature_selector import FeatureSelector\n",
    "\n",
    "fs = FeatureSelector(data = X_train, labels = y_train)\n",
    "fs.identify_all(selection_params = {'missing_threshold': 0.6, 'correlation_threshold': 0.98, 'task': 'classification', 'eval_metric': 'auc', 'cumulative_importance': 0.99})\n",
    "train_removed = fs.remove(methods = 'all')\n",
    "train_removed.head()"
   ]
  },
  {
   "cell_type": "markdown",
   "metadata": {},
   "source": [
    "### Over-sampling followed by under-sampling"
   ]
  },
  {
   "cell_type": "code",
   "execution_count": 16,
   "metadata": {},
   "outputs": [
    {
     "ename": "ModuleNotFoundError",
     "evalue": "No module named 'imblearn'",
     "output_type": "error",
     "traceback": [
      "\u001b[1;31m---------------------------------------------------------------------------\u001b[0m",
      "\u001b[1;31mModuleNotFoundError\u001b[0m                       Traceback (most recent call last)",
      "\u001b[1;32m<ipython-input-16-732314e05079>\u001b[0m in \u001b[0;36m<module>\u001b[1;34m\u001b[0m\n\u001b[1;32m----> 1\u001b[1;33m \u001b[1;32mfrom\u001b[0m \u001b[0mImbalanced\u001b[0m \u001b[1;32mimport\u001b[0m \u001b[0mOverSampleUnderSampleA\u001b[0m\u001b[1;33m\u001b[0m\u001b[1;33m\u001b[0m\u001b[0m\n\u001b[0m\u001b[0;32m      2\u001b[0m \u001b[1;33m\u001b[0m\u001b[0m\n\u001b[0;32m      3\u001b[0m \u001b[0mX_train\u001b[0m\u001b[1;33m,\u001b[0m \u001b[0my_train\u001b[0m \u001b[1;33m=\u001b[0m \u001b[0mOverSampleUnderSampleA\u001b[0m \u001b[1;33m(\u001b[0m\u001b[0mX_train\u001b[0m\u001b[1;33m,\u001b[0m \u001b[0my_train\u001b[0m\u001b[1;33m)\u001b[0m\u001b[1;33m\u001b[0m\u001b[1;33m\u001b[0m\u001b[0m\n",
      "\u001b[1;32m~\\Desktop\\Machine Learning for Networking - Challenge\\Imbalanced.py\u001b[0m in \u001b[0;36m<module>\u001b[1;34m\u001b[0m\n\u001b[1;32m----> 1\u001b[1;33m \u001b[1;32mfrom\u001b[0m \u001b[0mimblearn\u001b[0m\u001b[1;33m.\u001b[0m\u001b[0mcombine\u001b[0m \u001b[1;32mimport\u001b[0m \u001b[0mSMOTETomek\u001b[0m\u001b[1;33m\u001b[0m\u001b[1;33m\u001b[0m\u001b[0m\n\u001b[0m\u001b[0;32m      2\u001b[0m \u001b[1;33m\u001b[0m\u001b[0m\n\u001b[0;32m      3\u001b[0m \u001b[1;32mdef\u001b[0m \u001b[0mOverSampleUnderSampleA\u001b[0m \u001b[1;33m(\u001b[0m\u001b[0mX_tr\u001b[0m\u001b[1;33m,\u001b[0m \u001b[0my_tr\u001b[0m\u001b[1;33m)\u001b[0m\u001b[1;33m:\u001b[0m\u001b[1;33m\u001b[0m\u001b[1;33m\u001b[0m\u001b[0m\n\u001b[0;32m      4\u001b[0m     \u001b[0msmt\u001b[0m \u001b[1;33m=\u001b[0m \u001b[0mSMOTETomek\u001b[0m\u001b[1;33m(\u001b[0m\u001b[0mratio\u001b[0m\u001b[1;33m=\u001b[0m\u001b[1;34m'auto'\u001b[0m\u001b[1;33m)\u001b[0m\u001b[1;33m\u001b[0m\u001b[1;33m\u001b[0m\u001b[0m\n\u001b[0;32m      5\u001b[0m     \u001b[0mX_smt\u001b[0m\u001b[1;33m,\u001b[0m \u001b[0my_smt\u001b[0m \u001b[1;33m=\u001b[0m \u001b[0msmt\u001b[0m\u001b[1;33m.\u001b[0m\u001b[0mfit_sample\u001b[0m\u001b[1;33m(\u001b[0m\u001b[0mX_tr\u001b[0m\u001b[1;33m,\u001b[0m \u001b[0my_tr\u001b[0m\u001b[1;33m)\u001b[0m\u001b[1;33m\u001b[0m\u001b[1;33m\u001b[0m\u001b[0m\n",
      "\u001b[1;31mModuleNotFoundError\u001b[0m: No module named 'imblearn'"
     ]
    }
   ],
   "source": [
    "from Imbalanced import OverSampleUnderSampleA\n",
    "\n",
    "X_train, y_train = OverSampleUnderSampleA (X_train, y_train)"
   ]
  },
  {
   "cell_type": "markdown",
   "metadata": {},
   "source": [
    "### Random under-sampling and over-sampling"
   ]
  },
  {
   "cell_type": "code",
   "execution_count": 15,
   "metadata": {},
   "outputs": [
    {
     "ename": "ModuleNotFoundError",
     "evalue": "No module named 'imblearn'",
     "output_type": "error",
     "traceback": [
      "\u001b[1;31m---------------------------------------------------------------------------\u001b[0m",
      "\u001b[1;31mModuleNotFoundError\u001b[0m                       Traceback (most recent call last)",
      "\u001b[1;32m<ipython-input-15-30a674687817>\u001b[0m in \u001b[0;36m<module>\u001b[1;34m\u001b[0m\n\u001b[1;32m----> 1\u001b[1;33m \u001b[1;32mfrom\u001b[0m \u001b[0mImbalanced\u001b[0m \u001b[1;32mimport\u001b[0m \u001b[0mRandomUSOSA\u001b[0m\u001b[1;33m\u001b[0m\u001b[1;33m\u001b[0m\u001b[0m\n\u001b[0m\u001b[0;32m      2\u001b[0m \u001b[1;33m\u001b[0m\u001b[0m\n\u001b[0;32m      3\u001b[0m \u001b[0mX_train\u001b[0m\u001b[1;33m,\u001b[0m \u001b[0my_train\u001b[0m \u001b[1;33m=\u001b[0m \u001b[0mRandomUSOSA\u001b[0m \u001b[1;33m(\u001b[0m\u001b[0mX_train\u001b[0m\u001b[1;33m,\u001b[0m \u001b[0my_train\u001b[0m\u001b[1;33m)\u001b[0m\u001b[1;33m\u001b[0m\u001b[1;33m\u001b[0m\u001b[0m\n",
      "\u001b[1;32m~\\Desktop\\Machine Learning for Networking - Challenge\\Imbalanced.py\u001b[0m in \u001b[0;36m<module>\u001b[1;34m\u001b[0m\n\u001b[1;32m----> 1\u001b[1;33m \u001b[1;32mfrom\u001b[0m \u001b[0mimblearn\u001b[0m\u001b[1;33m.\u001b[0m\u001b[0mcombine\u001b[0m \u001b[1;32mimport\u001b[0m \u001b[0mSMOTETomek\u001b[0m\u001b[1;33m\u001b[0m\u001b[1;33m\u001b[0m\u001b[0m\n\u001b[0m\u001b[0;32m      2\u001b[0m \u001b[1;33m\u001b[0m\u001b[0m\n\u001b[0;32m      3\u001b[0m \u001b[1;32mdef\u001b[0m \u001b[0mOverSampleUnderSampleA\u001b[0m \u001b[1;33m(\u001b[0m\u001b[0mX_tr\u001b[0m\u001b[1;33m,\u001b[0m \u001b[0my_tr\u001b[0m\u001b[1;33m)\u001b[0m\u001b[1;33m:\u001b[0m\u001b[1;33m\u001b[0m\u001b[1;33m\u001b[0m\u001b[0m\n\u001b[0;32m      4\u001b[0m     \u001b[0msmt\u001b[0m \u001b[1;33m=\u001b[0m \u001b[0mSMOTETomek\u001b[0m\u001b[1;33m(\u001b[0m\u001b[0mratio\u001b[0m\u001b[1;33m=\u001b[0m\u001b[1;34m'auto'\u001b[0m\u001b[1;33m)\u001b[0m\u001b[1;33m\u001b[0m\u001b[1;33m\u001b[0m\u001b[0m\n\u001b[0;32m      5\u001b[0m     \u001b[0mX_smt\u001b[0m\u001b[1;33m,\u001b[0m \u001b[0my_smt\u001b[0m \u001b[1;33m=\u001b[0m \u001b[0msmt\u001b[0m\u001b[1;33m.\u001b[0m\u001b[0mfit_sample\u001b[0m\u001b[1;33m(\u001b[0m\u001b[0mX_tr\u001b[0m\u001b[1;33m,\u001b[0m \u001b[0my_tr\u001b[0m\u001b[1;33m)\u001b[0m\u001b[1;33m\u001b[0m\u001b[1;33m\u001b[0m\u001b[0m\n",
      "\u001b[1;31mModuleNotFoundError\u001b[0m: No module named 'imblearn'"
     ]
    }
   ],
   "source": [
    "from Imbalanced import RandomUSOSA\n",
    "\n",
    "X_train, y_train = RandomUSOSA (X_train, y_train)"
   ]
  },
  {
   "cell_type": "markdown",
   "metadata": {},
   "source": [
    "# Perceptron"
   ]
  },
  {
   "cell_type": "code",
   "execution_count": null,
   "metadata": {},
   "outputs": [],
   "source": [
    "import numpy as np\n",
    "from perceptron import Perceptron\n",
    "\n",
    "\n",
    "perceptron = Perceptron(13)\n",
    "perceptron.train(X_train, y_train)"
   ]
  },
  {
   "cell_type": "code",
   "execution_count": 15,
   "metadata": {},
   "outputs": [],
   "source": [
    "pred = []\n",
    "for i in range(User_Id.shape[0]):\n",
    "    a=int(perceptron.predict(X_test[i]))\n",
    "    pred.append([int(User_Id[i]),a])\n",
    "    \n",
    "np.savetxt(\"predictions\\\\perceptronpp4.csv\", pred, fmt='%10i',delimiter=\",\")"
   ]
  },
  {
   "cell_type": "code",
   "execution_count": null,
   "metadata": {},
   "outputs": [],
   "source": [
    "cont=0\n",
    "for i in range(User_Id.shape[0]):\n",
    "    if pred[i][1]==1:\n",
    "        cont=cont+1\n",
    "prev=cont/User_Id.shape[0]\n",
    "prev"
   ]
  },
  {
   "cell_type": "markdown",
   "metadata": {},
   "source": [
    "# K-Nearest Neighbors"
   ]
  },
  {
   "cell_type": "code",
   "execution_count": 40,
   "metadata": {},
   "outputs": [
    {
     "name": "stdout",
     "output_type": "stream",
     "text": [
      "Accuracy of K-NN classifier on training set: 0.81\n"
     ]
    }
   ],
   "source": [
    "from KNearestNeighbors import KNearestNeighborsA\n",
    "\n",
    "KNearestNeighborsA (X_train, y_train, X_test, User_Id)"
   ]
  },
  {
   "cell_type": "markdown",
   "metadata": {},
   "source": [
    "# Decision Tree"
   ]
  },
  {
   "cell_type": "code",
   "execution_count": 123,
   "metadata": {},
   "outputs": [
    {
     "name": "stderr",
     "output_type": "stream",
     "text": [
      "C:\\Users\\Riccardo\\Anaconda3\\envs\\oracle\\lib\\site-packages\\sklearn\\model_selection\\_split.py:2053: FutureWarning: You should specify a value for 'cv' instead of relying on the default value. The default value will change from 3 to 5 in version 0.22.\n",
      "  warnings.warn(CV_WARNING, FutureWarning)\n"
     ]
    }
   ],
   "source": [
    "from sklearn.tree import DecisionTreeClassifier\n",
    "from sklearn.metrics import roc_auc_score\n",
    "\n",
    "param_grid = {'max_depth': np.arange(3, 10)}\n",
    "\n",
    "tree = GridSearchCV(DecisionTreeClassifier(), param_grid)\n",
    "\n",
    "tree.fit(X_train, y_train)\n",
    "tree_preds = tree.predict_proba(X_test)[:, 1]"
   ]
  },
  {
   "cell_type": "code",
   "execution_count": 124,
   "metadata": {},
   "outputs": [
    {
     "data": {
      "text/plain": [
       "{'max_depth': 9}"
      ]
     },
     "execution_count": 124,
     "metadata": {},
     "output_type": "execute_result"
    }
   ],
   "source": [
    "tree.best_params_"
   ]
  },
  {
   "cell_type": "code",
   "execution_count": 13,
   "metadata": {},
   "outputs": [
    {
     "name": "stdout",
     "output_type": "stream",
     "text": [
      "Mean crossvalidation Micro-F1: 0.739\n",
      "ciaone\n"
     ]
    }
   ],
   "source": [
    "from DecisionTree import DecisionTreeA\n",
    "\n",
    "DecisionTreeA (X_train, y_train, X_test,User_Id)"
   ]
  },
  {
   "cell_type": "code",
   "execution_count": 10,
   "metadata": {},
   "outputs": [
    {
     "name": "stdout",
     "output_type": "stream",
     "text": [
      "Mean crossvalidation Micro-F1: 0.632\n"
     ]
    }
   ],
   "source": [
    "from sklearn.tree import DecisionTreeClassifier\n",
    "from sklearn.metrics import classification_report\n",
    "from sklearn.model_selection import cross_val_score\n",
    "import numpy\n",
    "\n",
    "dt = DecisionTreeClassifier(max_depth=9)\n",
    "clf = dt.fit(X_train, y_train)\n",
    "scores = cross_val_score(dt, X_train, y_train, cv = 10, scoring='precision')\n",
    "print(f\"Mean crossvalidation Micro-F1: {numpy.mean(scores):.3f}\")"
   ]
  },
  {
   "cell_type": "markdown",
   "metadata": {},
   "source": [
    "# Random Forrest \n",
    "### (with Cross-Validation)"
   ]
  },
  {
   "cell_type": "code",
   "execution_count": 17,
   "metadata": {},
   "outputs": [
    {
     "name": "stdout",
     "output_type": "stream",
     "text": [
      "Mean crossvalidation Micro-F1: 0.709\n"
     ]
    }
   ],
   "source": [
    "from sklearn.ensemble import RandomForestClassifier\n",
    "from sklearn.model_selection import cross_val_score\n",
    "\n",
    "RFC = RandomForestClassifier(n_estimators=500, criterion='gini', bootstrap=False)\n",
    "RFC.fit(X_train, y_train)\n",
    "scores = cross_val_score(RFC, X_train, y_train, cv = 10, scoring='precision')\n",
    "\n",
    "print(f\"Mean crossvalidation Micro-F1: {np.mean(scores):.3f}\")"
   ]
  },
  {
   "cell_type": "markdown",
   "metadata": {},
   "source": [
    "### Finding important features"
   ]
  },
  {
   "cell_type": "code",
   "execution_count": 18,
   "metadata": {},
   "outputs": [
    {
     "data": {
      "text/plain": [
       "RandomForestClassifier(bootstrap=False, class_weight=None, criterion='gini',\n",
       "            max_depth=None, max_features='auto', max_leaf_nodes=None,\n",
       "            min_impurity_decrease=0.0, min_impurity_split=None,\n",
       "            min_samples_leaf=1, min_samples_split=2,\n",
       "            min_weight_fraction_leaf=0.0, n_estimators=700, n_jobs=1,\n",
       "            oob_score=False, random_state=None, verbose=0,\n",
       "            warm_start=False)"
      ]
     },
     "execution_count": 18,
     "metadata": {},
     "output_type": "execute_result"
    }
   ],
   "source": [
    "from sklearn.ensemble import RandomForestClassifier\n",
    "\n",
    "RandomForestClassifier(bootstrap=False, class_weight=None, criterion='gini',\n",
    "            max_depth=None, max_features='auto', max_leaf_nodes=None,\n",
    "          \n",
    "            min_impurity_decrease=0.0, min_impurity_split=None,\n",
    "            min_samples_leaf=1, min_samples_split=2,\n",
    "            min_weight_fraction_leaf=0.0, n_estimators=700, n_jobs=1,\n",
    "            oob_score=False, random_state=None, verbose=0,\n",
    "            warm_start=False)"
   ]
  },
  {
   "cell_type": "code",
   "execution_count": 19,
   "metadata": {
    "scrolled": true
   },
   "outputs": [
    {
     "data": {
      "text/plain": [
       "UMTS_full                                0.096632\n",
       "UMTS_lim                                 0.093166\n",
       "Cumulative_YoutubeSess_LTE_DL_Volume     0.081531\n",
       "p2                                       0.076144\n",
       "LTE_lim                                  0.075917\n",
       "LTE_full                                 0.075886\n",
       "UMTS_no                                  0.064963\n",
       "Cumulative_YoutubeSess_LTE_DL_Time       0.064420\n",
       "LTE_no                                   0.060896\n",
       "Max_RSRQ                                 0.060045\n",
       "YT                                       0.058630\n",
       "Cumulative_YoutubeSess_UMTS_DL_Volume    0.056415\n",
       "p1                                       0.050715\n",
       "Cumulative_YoutubeSess_UMTS_DL_Time      0.048027\n",
       "Max_SNR                                  0.036614\n",
       "dtype: float64"
      ]
     },
     "execution_count": 19,
     "metadata": {},
     "output_type": "execute_result"
    }
   ],
   "source": [
    "feature_imp = pd.Series(RFC.feature_importances_,feature_names).sort_values(ascending=False)\n",
    "feature_imp"
   ]
  },
  {
   "cell_type": "markdown",
   "metadata": {},
   "source": [
    "#### Save"
   ]
  },
  {
   "cell_type": "code",
   "execution_count": 12,
   "metadata": {},
   "outputs": [],
   "source": [
    "pred1 = RFC.predict(X_test)\n",
    "pred = []\n",
    "a = 0\n",
    "for i in pred1:\n",
    "    pred.append([int(User_Id[a]),int(i)])\n",
    "    a += 1\n",
    "    \n",
    "np.savetxt(\"predictions\\\\fra1.csv\", pred, fmt='%10i',delimiter=\",\")"
   ]
  },
  {
   "cell_type": "markdown",
   "metadata": {},
   "source": [
    "### Grid Search"
   ]
  },
  {
   "cell_type": "code",
   "execution_count": 10,
   "metadata": {},
   "outputs": [],
   "source": [
    "from sklearn.model_selection import GridSearchCV\n",
    "\n",
    "grid_param = {  \n",
    "    'n_estimators': [100, 300, 500, 700, 900],\n",
    "    'criterion': ['gini', 'entropy'],\n",
    "    'bootstrap': [True, False]\n",
    "}\n",
    "\n",
    "gd_sr = GridSearchCV(estimator=RFC,  \n",
    "                     param_grid=grid_param,\n",
    "                     scoring='accuracy',\n",
    "                     cv=5,\n",
    "                     n_jobs=-1)"
   ]
  },
  {
   "cell_type": "code",
   "execution_count": 11,
   "metadata": {},
   "outputs": [
    {
     "name": "stdout",
     "output_type": "stream",
     "text": [
      "{'bootstrap': False, 'criterion': 'gini', 'n_estimators': 500}\n"
     ]
    }
   ],
   "source": [
    "gd_sr.fit(X_train, y_train)  \n",
    "\n",
    "best_parameters = gd_sr.best_params_  \n",
    "print(best_parameters) "
   ]
  },
  {
   "cell_type": "code",
   "execution_count": 71,
   "metadata": {},
   "outputs": [
    {
     "name": "stdout",
     "output_type": "stream",
     "text": [
      "0.8271582625459365\n"
     ]
    }
   ],
   "source": [
    "best_result = gd_sr.best_score_  \n",
    "print(best_result) "
   ]
  },
  {
   "cell_type": "code",
   "execution_count": null,
   "metadata": {},
   "outputs": [],
   "source": []
  }
 ],
 "metadata": {
  "kernelspec": {
   "display_name": "Python 3",
   "language": "python",
   "name": "python3"
  },
  "language_info": {
   "codemirror_mode": {
    "name": "ipython",
    "version": 3
   },
   "file_extension": ".py",
   "mimetype": "text/x-python",
   "name": "python",
   "nbconvert_exporter": "python",
   "pygments_lexer": "ipython3",
   "version": "3.7.1"
  }
 },
 "nbformat": 4,
 "nbformat_minor": 2
}
