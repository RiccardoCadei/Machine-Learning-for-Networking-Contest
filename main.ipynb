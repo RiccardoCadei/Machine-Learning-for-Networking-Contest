{
 "cells": [
  {
   "cell_type": "markdown",
   "metadata": {},
   "source": [
    "# Loading the Data"
   ]
  },
  {
   "cell_type": "code",
   "execution_count": 1,
   "metadata": {
    "scrolled": true
   },
   "outputs": [
    {
     "data": {
      "text/html": [
       "<div>\n",
       "<style scoped>\n",
       "    .dataframe tbody tr th:only-of-type {\n",
       "        vertical-align: middle;\n",
       "    }\n",
       "\n",
       "    .dataframe tbody tr th {\n",
       "        vertical-align: top;\n",
       "    }\n",
       "\n",
       "    .dataframe thead th {\n",
       "        text-align: right;\n",
       "    }\n",
       "</style>\n",
       "<table border=\"1\" class=\"dataframe\">\n",
       "  <thead>\n",
       "    <tr style=\"text-align: right;\">\n",
       "      <th></th>\n",
       "      <th>User_Id</th>\n",
       "      <th>Cumulative_YoutubeSess_LTE_DL_Time</th>\n",
       "      <th>Cumulative_YoutubeSess_LTE_DL_Volume</th>\n",
       "      <th>Cumulative_YoutubeSess_UMTS_DL_Time</th>\n",
       "      <th>Cumulative_YoutubeSess_UMTS_DL_Volume</th>\n",
       "      <th>Max_RSRQ</th>\n",
       "      <th>Max_SNR</th>\n",
       "      <th>Cumulative_Full_Service_Time_UMTS</th>\n",
       "      <th>Cumulative_Lim_Service_Time_UMTS</th>\n",
       "      <th>Cumulative_No_Service_Time_UMTS</th>\n",
       "      <th>Cumulative_Full_Service_Time_LTE</th>\n",
       "      <th>Cumulative_Lim_Service_Time_LTE</th>\n",
       "      <th>Cumulative_No_Service_Time_LTE</th>\n",
       "      <th>User_Satisfaction</th>\n",
       "    </tr>\n",
       "  </thead>\n",
       "  <tbody>\n",
       "    <tr>\n",
       "      <th>0</th>\n",
       "      <td>17914</td>\n",
       "      <td>673.920</td>\n",
       "      <td>527582</td>\n",
       "      <td>351.893</td>\n",
       "      <td>41261</td>\n",
       "      <td>-3</td>\n",
       "      <td>-19.9</td>\n",
       "      <td>107685</td>\n",
       "      <td>1466</td>\n",
       "      <td>905</td>\n",
       "      <td>136709</td>\n",
       "      <td>4258</td>\n",
       "      <td>2002</td>\n",
       "      <td>0</td>\n",
       "    </tr>\n",
       "    <tr>\n",
       "      <th>1</th>\n",
       "      <td>2606</td>\n",
       "      <td>2.172</td>\n",
       "      <td>37</td>\n",
       "      <td>0.000</td>\n",
       "      <td>0</td>\n",
       "      <td>-7</td>\n",
       "      <td>27.4</td>\n",
       "      <td>58873</td>\n",
       "      <td>2475</td>\n",
       "      <td>1292</td>\n",
       "      <td>152668</td>\n",
       "      <td>2156</td>\n",
       "      <td>4623</td>\n",
       "      <td>0</td>\n",
       "    </tr>\n",
       "    <tr>\n",
       "      <th>2</th>\n",
       "      <td>21473</td>\n",
       "      <td>22.386</td>\n",
       "      <td>20267</td>\n",
       "      <td>0.000</td>\n",
       "      <td>0</td>\n",
       "      <td>-11</td>\n",
       "      <td>9.8</td>\n",
       "      <td>35710</td>\n",
       "      <td>942</td>\n",
       "      <td>4039</td>\n",
       "      <td>90970</td>\n",
       "      <td>1100</td>\n",
       "      <td>3346</td>\n",
       "      <td>0</td>\n",
       "    </tr>\n",
       "    <tr>\n",
       "      <th>3</th>\n",
       "      <td>11825</td>\n",
       "      <td>3617.853</td>\n",
       "      <td>1383189</td>\n",
       "      <td>225.367</td>\n",
       "      <td>65340</td>\n",
       "      <td>-3</td>\n",
       "      <td>-19.9</td>\n",
       "      <td>30919</td>\n",
       "      <td>5348</td>\n",
       "      <td>4987</td>\n",
       "      <td>154527</td>\n",
       "      <td>1733</td>\n",
       "      <td>5394</td>\n",
       "      <td>1</td>\n",
       "    </tr>\n",
       "    <tr>\n",
       "      <th>4</th>\n",
       "      <td>15844</td>\n",
       "      <td>62.493</td>\n",
       "      <td>20774</td>\n",
       "      <td>0.000</td>\n",
       "      <td>0</td>\n",
       "      <td>-4</td>\n",
       "      <td>-19.8</td>\n",
       "      <td>981</td>\n",
       "      <td>2067</td>\n",
       "      <td>2830</td>\n",
       "      <td>114023</td>\n",
       "      <td>2726</td>\n",
       "      <td>13684</td>\n",
       "      <td>1</td>\n",
       "    </tr>\n",
       "  </tbody>\n",
       "</table>\n",
       "</div>"
      ],
      "text/plain": [
       "   User_Id  Cumulative_YoutubeSess_LTE_DL_Time  \\\n",
       "0    17914                             673.920   \n",
       "1     2606                               2.172   \n",
       "2    21473                              22.386   \n",
       "3    11825                            3617.853   \n",
       "4    15844                              62.493   \n",
       "\n",
       "   Cumulative_YoutubeSess_LTE_DL_Volume  Cumulative_YoutubeSess_UMTS_DL_Time  \\\n",
       "0                                527582                              351.893   \n",
       "1                                    37                                0.000   \n",
       "2                                 20267                                0.000   \n",
       "3                               1383189                              225.367   \n",
       "4                                 20774                                0.000   \n",
       "\n",
       "   Cumulative_YoutubeSess_UMTS_DL_Volume  Max_RSRQ  Max_SNR  \\\n",
       "0                                  41261        -3    -19.9   \n",
       "1                                      0        -7     27.4   \n",
       "2                                      0       -11      9.8   \n",
       "3                                  65340        -3    -19.9   \n",
       "4                                      0        -4    -19.8   \n",
       "\n",
       "   Cumulative_Full_Service_Time_UMTS  Cumulative_Lim_Service_Time_UMTS  \\\n",
       "0                             107685                              1466   \n",
       "1                              58873                              2475   \n",
       "2                              35710                               942   \n",
       "3                              30919                              5348   \n",
       "4                                981                              2067   \n",
       "\n",
       "   Cumulative_No_Service_Time_UMTS  Cumulative_Full_Service_Time_LTE  \\\n",
       "0                              905                            136709   \n",
       "1                             1292                            152668   \n",
       "2                             4039                             90970   \n",
       "3                             4987                            154527   \n",
       "4                             2830                            114023   \n",
       "\n",
       "   Cumulative_Lim_Service_Time_LTE  Cumulative_No_Service_Time_LTE  \\\n",
       "0                             4258                            2002   \n",
       "1                             2156                            4623   \n",
       "2                             1100                            3346   \n",
       "3                             1733                            5394   \n",
       "4                             2726                           13684   \n",
       "\n",
       "   User_Satisfaction  \n",
       "0                  0  \n",
       "1                  0  \n",
       "2                  0  \n",
       "3                  1  \n",
       "4                  1  "
      ]
     },
     "execution_count": 1,
     "metadata": {},
     "output_type": "execute_result"
    }
   ],
   "source": [
    "import pandas as pd\n",
    "import numpy as np\n",
    "usertr = pd.read_csv('data\\\\train_data.csv')\n",
    "userte = pd.read_csv('data\\\\test_data.csv')\n",
    "usertr.head()"
   ]
  },
  {
   "cell_type": "code",
   "execution_count": 2,
   "metadata": {},
   "outputs": [
    {
     "name": "stdout",
     "output_type": "stream",
     "text": [
      "We know 13 network measurements of 23713 users.\n",
      "Of these: 16599 users have reviewed the service, 7114 no.\n"
     ]
    }
   ],
   "source": [
    "print(f'We know {usertr.shape[1]-1} network measurements of {usertr.shape[0]+userte.shape[0]} users.')\n",
    "print(f'Of these: {usertr.shape[0]} users have reviewed the service, {userte.shape[0]} no.')"
   ]
  },
  {
   "cell_type": "code",
   "execution_count": 3,
   "metadata": {},
   "outputs": [
    {
     "name": "stdout",
     "output_type": "stream",
     "text": [
      "From 16599 users who have reviewed the service, 4132 aren't fulfilled, i.e. the 0.248930658473402 %\n"
     ]
    }
   ],
   "source": [
    "satisfacted = 0\n",
    "for count in range(usertr.shape[0]):\n",
    "    if usertr.User_Satisfaction[count]==1:\n",
    "        satisfacted += 1\n",
    "        \n",
    "print(f'From {usertr.shape[0]} users who have reviewed the service, {satisfacted} aren\\'t fulfilled, i.e. the {satisfacted/usertr.shape[0]} %')"
   ]
  },
  {
   "cell_type": "markdown",
   "metadata": {},
   "source": [
    "# Splitting the dataset"
   ]
  },
  {
   "cell_type": "code",
   "execution_count": 4,
   "metadata": {},
   "outputs": [],
   "source": [
    "feature_names = ['User_Id','Cumulative_YoutubeSess_LTE_DL_Time','Cumulative_YoutubeSess_LTE_DL_Volume','Cumulative_YoutubeSess_UMTS_DL_Time','Cumulative_YoutubeSess_UMTS_DL_Volume','Max_RSRQ','Max_SNR','Cumulative_Full_Service_Time_UMTS','Cumulative_Lim_Service_Time_UMTS','Cumulative_No_Service_Time_UMTS','Cumulative_Full_Service_Time_LTE','Cumulative_Lim_Service_Time_LTE','Cumulative_No_Service_Time_LTE',]\n",
    "X_train = usertr[feature_names]\n",
    "y_train = usertr['User_Satisfaction']\n",
    "X_test = userte[feature_names]"
   ]
  },
  {
   "cell_type": "markdown",
   "metadata": {},
   "source": [
    "# K-Nearest Neighbors"
   ]
  },
  {
   "cell_type": "code",
   "execution_count": 5,
   "metadata": {},
   "outputs": [
    {
     "name": "stdout",
     "output_type": "stream",
     "text": [
      "Accuracy of K-NN classifier on training set: 0.80\n"
     ]
    }
   ],
   "source": [
    "from KNearestNeighbors import KNearestNeighborsA\n",
    "\n",
    "KNearestNeighborsA (X_train, y_train, X_test)"
   ]
  },
  {
   "cell_type": "markdown",
   "metadata": {},
   "source": [
    "# Decision Tree"
   ]
  },
  {
   "cell_type": "code",
   "execution_count": 5,
   "metadata": {},
   "outputs": [
    {
     "name": "stdout",
     "output_type": "stream",
     "text": [
      "Accuracy of Decision Tree classifier on training set: 1.00\n"
     ]
    }
   ],
   "source": [
    "from DecisionTree import DecisionTreeA\n",
    "\n",
    "DecisionTreeA (X_train, y_train, X_test)"
   ]
  },
  {
   "cell_type": "markdown",
   "metadata": {},
   "source": [
    "## Decision Tree + Over-sampling followed by under-sampling"
   ]
  },
  {
   "cell_type": "code",
   "execution_count": null,
   "metadata": {},
   "outputs": [],
   "source": [
    "from Imbalanced import OverSampleUnderSampleA\n",
    "\n",
    "X_smt, y_smt = OverSampleUnderSampleA (X_train, y_train)\n",
    "DecisionTreeA (X_smt, y_smt, X_test)"
   ]
  },
  {
   "cell_type": "markdown",
   "metadata": {},
   "source": [
    "## Decision Tree + Random under-sampling and over-sampling"
   ]
  },
  {
   "cell_type": "code",
   "execution_count": 6,
   "metadata": {},
   "outputs": [
    {
     "name": "stdout",
     "output_type": "stream",
     "text": [
      "Removed indexes: [ 3640 11232 15177 ... 16592 16597 16598]\n",
      "Accuracy of Decision Tree classifier on training set: 1.00\n"
     ]
    }
   ],
   "source": [
    "from Imbalanced import RandomUSOSA\n",
    "\n",
    "X_t, y_t = RandomUSOSA (X_train, y_train)\n",
    "DecisionTreeA (X_t, y_t, X_test)"
   ]
  },
  {
   "cell_type": "code",
   "execution_count": null,
   "metadata": {},
   "outputs": [],
   "source": []
  }
 ],
 "metadata": {
  "kernelspec": {
   "display_name": "Python 3",
   "language": "python",
   "name": "python3"
  },
  "language_info": {
   "codemirror_mode": {
    "name": "ipython",
    "version": 3
   },
   "file_extension": ".py",
   "mimetype": "text/x-python",
   "name": "python",
   "nbconvert_exporter": "python",
   "pygments_lexer": "ipython3",
   "version": "3.7.2"
  }
 },
 "nbformat": 4,
 "nbformat_minor": 2
}
