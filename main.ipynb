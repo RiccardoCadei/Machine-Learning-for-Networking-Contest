{
 "cells": [
  {
   "cell_type": "markdown",
   "metadata": {},
   "source": [
    "# Loading the Data"
   ]
  },
  {
   "cell_type": "code",
   "execution_count": 10,
   "metadata": {
    "scrolled": true
   },
   "outputs": [
    {
     "data": {
      "text/html": [
       "<div>\n",
       "<style scoped>\n",
       "    .dataframe tbody tr th:only-of-type {\n",
       "        vertical-align: middle;\n",
       "    }\n",
       "\n",
       "    .dataframe tbody tr th {\n",
       "        vertical-align: top;\n",
       "    }\n",
       "\n",
       "    .dataframe thead th {\n",
       "        text-align: right;\n",
       "    }\n",
       "</style>\n",
       "<table border=\"1\" class=\"dataframe\">\n",
       "  <thead>\n",
       "    <tr style=\"text-align: right;\">\n",
       "      <th></th>\n",
       "      <th>User_Id</th>\n",
       "      <th>Cumulative_YoutubeSess_LTE_DL_Time</th>\n",
       "      <th>Cumulative_YoutubeSess_LTE_DL_Volume</th>\n",
       "      <th>Cumulative_YoutubeSess_UMTS_DL_Time</th>\n",
       "      <th>Cumulative_YoutubeSess_UMTS_DL_Volume</th>\n",
       "      <th>Max_RSRQ</th>\n",
       "      <th>Max_SNR</th>\n",
       "      <th>Cumulative_Full_Service_Time_UMTS</th>\n",
       "      <th>Cumulative_Lim_Service_Time_UMTS</th>\n",
       "      <th>Cumulative_No_Service_Time_UMTS</th>\n",
       "      <th>Cumulative_Full_Service_Time_LTE</th>\n",
       "      <th>Cumulative_Lim_Service_Time_LTE</th>\n",
       "      <th>Cumulative_No_Service_Time_LTE</th>\n",
       "      <th>User_Satisfaction</th>\n",
       "    </tr>\n",
       "  </thead>\n",
       "  <tbody>\n",
       "    <tr>\n",
       "      <th>0</th>\n",
       "      <td>17914</td>\n",
       "      <td>673.920</td>\n",
       "      <td>527582</td>\n",
       "      <td>351.893</td>\n",
       "      <td>41261</td>\n",
       "      <td>-3</td>\n",
       "      <td>-19.9</td>\n",
       "      <td>107685</td>\n",
       "      <td>1466</td>\n",
       "      <td>905</td>\n",
       "      <td>136709</td>\n",
       "      <td>4258</td>\n",
       "      <td>2002</td>\n",
       "      <td>0</td>\n",
       "    </tr>\n",
       "    <tr>\n",
       "      <th>1</th>\n",
       "      <td>2606</td>\n",
       "      <td>2.172</td>\n",
       "      <td>37</td>\n",
       "      <td>0.000</td>\n",
       "      <td>0</td>\n",
       "      <td>-7</td>\n",
       "      <td>27.4</td>\n",
       "      <td>58873</td>\n",
       "      <td>2475</td>\n",
       "      <td>1292</td>\n",
       "      <td>152668</td>\n",
       "      <td>2156</td>\n",
       "      <td>4623</td>\n",
       "      <td>0</td>\n",
       "    </tr>\n",
       "    <tr>\n",
       "      <th>2</th>\n",
       "      <td>21473</td>\n",
       "      <td>22.386</td>\n",
       "      <td>20267</td>\n",
       "      <td>0.000</td>\n",
       "      <td>0</td>\n",
       "      <td>-11</td>\n",
       "      <td>9.8</td>\n",
       "      <td>35710</td>\n",
       "      <td>942</td>\n",
       "      <td>4039</td>\n",
       "      <td>90970</td>\n",
       "      <td>1100</td>\n",
       "      <td>3346</td>\n",
       "      <td>0</td>\n",
       "    </tr>\n",
       "    <tr>\n",
       "      <th>3</th>\n",
       "      <td>11825</td>\n",
       "      <td>3617.853</td>\n",
       "      <td>1383189</td>\n",
       "      <td>225.367</td>\n",
       "      <td>65340</td>\n",
       "      <td>-3</td>\n",
       "      <td>-19.9</td>\n",
       "      <td>30919</td>\n",
       "      <td>5348</td>\n",
       "      <td>4987</td>\n",
       "      <td>154527</td>\n",
       "      <td>1733</td>\n",
       "      <td>5394</td>\n",
       "      <td>1</td>\n",
       "    </tr>\n",
       "    <tr>\n",
       "      <th>4</th>\n",
       "      <td>15844</td>\n",
       "      <td>62.493</td>\n",
       "      <td>20774</td>\n",
       "      <td>0.000</td>\n",
       "      <td>0</td>\n",
       "      <td>-4</td>\n",
       "      <td>-19.8</td>\n",
       "      <td>981</td>\n",
       "      <td>2067</td>\n",
       "      <td>2830</td>\n",
       "      <td>114023</td>\n",
       "      <td>2726</td>\n",
       "      <td>13684</td>\n",
       "      <td>1</td>\n",
       "    </tr>\n",
       "  </tbody>\n",
       "</table>\n",
       "</div>"
      ],
      "text/plain": [
       "   User_Id  Cumulative_YoutubeSess_LTE_DL_Time  \\\n",
       "0    17914                             673.920   \n",
       "1     2606                               2.172   \n",
       "2    21473                              22.386   \n",
       "3    11825                            3617.853   \n",
       "4    15844                              62.493   \n",
       "\n",
       "   Cumulative_YoutubeSess_LTE_DL_Volume  Cumulative_YoutubeSess_UMTS_DL_Time  \\\n",
       "0                                527582                              351.893   \n",
       "1                                    37                                0.000   \n",
       "2                                 20267                                0.000   \n",
       "3                               1383189                              225.367   \n",
       "4                                 20774                                0.000   \n",
       "\n",
       "   Cumulative_YoutubeSess_UMTS_DL_Volume  Max_RSRQ  Max_SNR  \\\n",
       "0                                  41261        -3    -19.9   \n",
       "1                                      0        -7     27.4   \n",
       "2                                      0       -11      9.8   \n",
       "3                                  65340        -3    -19.9   \n",
       "4                                      0        -4    -19.8   \n",
       "\n",
       "   Cumulative_Full_Service_Time_UMTS  Cumulative_Lim_Service_Time_UMTS  \\\n",
       "0                             107685                              1466   \n",
       "1                              58873                              2475   \n",
       "2                              35710                               942   \n",
       "3                              30919                              5348   \n",
       "4                                981                              2067   \n",
       "\n",
       "   Cumulative_No_Service_Time_UMTS  Cumulative_Full_Service_Time_LTE  \\\n",
       "0                              905                            136709   \n",
       "1                             1292                            152668   \n",
       "2                             4039                             90970   \n",
       "3                             4987                            154527   \n",
       "4                             2830                            114023   \n",
       "\n",
       "   Cumulative_Lim_Service_Time_LTE  Cumulative_No_Service_Time_LTE  \\\n",
       "0                             4258                            2002   \n",
       "1                             2156                            4623   \n",
       "2                             1100                            3346   \n",
       "3                             1733                            5394   \n",
       "4                             2726                           13684   \n",
       "\n",
       "   User_Satisfaction  \n",
       "0                  0  \n",
       "1                  0  \n",
       "2                  0  \n",
       "3                  1  \n",
       "4                  1  "
      ]
     },
     "execution_count": 10,
     "metadata": {},
     "output_type": "execute_result"
    }
   ],
   "source": [
    "import pandas as pd\n",
    "import numpy as np\n",
    "usertr = pd.read_csv('data\\\\train_data.csv')\n",
    "userte = pd.read_csv('data\\\\test_data.csv')\n",
    "User_Id=userte.User_Id\n",
    "usertr.head()"
   ]
  },
  {
   "cell_type": "code",
   "execution_count": 11,
   "metadata": {},
   "outputs": [
    {
     "data": {
      "text/html": [
       "<div>\n",
       "<style scoped>\n",
       "    .dataframe tbody tr th:only-of-type {\n",
       "        vertical-align: middle;\n",
       "    }\n",
       "\n",
       "    .dataframe tbody tr th {\n",
       "        vertical-align: top;\n",
       "    }\n",
       "\n",
       "    .dataframe thead th {\n",
       "        text-align: right;\n",
       "    }\n",
       "</style>\n",
       "<table border=\"1\" class=\"dataframe\">\n",
       "  <thead>\n",
       "    <tr style=\"text-align: right;\">\n",
       "      <th></th>\n",
       "      <th>User_Id</th>\n",
       "      <th>Cumulative_YoutubeSess_LTE_DL_Time</th>\n",
       "      <th>Cumulative_YoutubeSess_LTE_DL_Volume</th>\n",
       "      <th>Cumulative_YoutubeSess_UMTS_DL_Time</th>\n",
       "      <th>Cumulative_YoutubeSess_UMTS_DL_Volume</th>\n",
       "      <th>Max_RSRQ</th>\n",
       "      <th>Max_SNR</th>\n",
       "      <th>Cumulative_Full_Service_Time_UMTS</th>\n",
       "      <th>Cumulative_Lim_Service_Time_UMTS</th>\n",
       "      <th>Cumulative_No_Service_Time_UMTS</th>\n",
       "      <th>Cumulative_Full_Service_Time_LTE</th>\n",
       "      <th>Cumulative_Lim_Service_Time_LTE</th>\n",
       "      <th>Cumulative_No_Service_Time_LTE</th>\n",
       "    </tr>\n",
       "    <tr>\n",
       "      <th>User_Satisfaction</th>\n",
       "      <th></th>\n",
       "      <th></th>\n",
       "      <th></th>\n",
       "      <th></th>\n",
       "      <th></th>\n",
       "      <th></th>\n",
       "      <th></th>\n",
       "      <th></th>\n",
       "      <th></th>\n",
       "      <th></th>\n",
       "      <th></th>\n",
       "      <th></th>\n",
       "      <th></th>\n",
       "    </tr>\n",
       "  </thead>\n",
       "  <tbody>\n",
       "    <tr>\n",
       "      <th>0</th>\n",
       "      <td>11845.285073</td>\n",
       "      <td>480.969855</td>\n",
       "      <td>257791.034010</td>\n",
       "      <td>109.893042</td>\n",
       "      <td>22299.533970</td>\n",
       "      <td>-5.251063</td>\n",
       "      <td>10.553766</td>\n",
       "      <td>76232.039625</td>\n",
       "      <td>3568.055587</td>\n",
       "      <td>1846.150798</td>\n",
       "      <td>162665.666560</td>\n",
       "      <td>2826.703858</td>\n",
       "      <td>5242.263255</td>\n",
       "    </tr>\n",
       "    <tr>\n",
       "      <th>1</th>\n",
       "      <td>11782.259439</td>\n",
       "      <td>501.661957</td>\n",
       "      <td>215908.052275</td>\n",
       "      <td>103.918285</td>\n",
       "      <td>19486.853098</td>\n",
       "      <td>-5.498790</td>\n",
       "      <td>7.632793</td>\n",
       "      <td>60674.434898</td>\n",
       "      <td>4286.820426</td>\n",
       "      <td>1946.305905</td>\n",
       "      <td>145873.178848</td>\n",
       "      <td>3096.002904</td>\n",
       "      <td>5432.052275</td>\n",
       "    </tr>\n",
       "  </tbody>\n",
       "</table>\n",
       "</div>"
      ],
      "text/plain": [
       "                        User_Id  Cumulative_YoutubeSess_LTE_DL_Time  \\\n",
       "User_Satisfaction                                                     \n",
       "0                  11845.285073                          480.969855   \n",
       "1                  11782.259439                          501.661957   \n",
       "\n",
       "                   Cumulative_YoutubeSess_LTE_DL_Volume  \\\n",
       "User_Satisfaction                                         \n",
       "0                                         257791.034010   \n",
       "1                                         215908.052275   \n",
       "\n",
       "                   Cumulative_YoutubeSess_UMTS_DL_Time  \\\n",
       "User_Satisfaction                                        \n",
       "0                                           109.893042   \n",
       "1                                           103.918285   \n",
       "\n",
       "                   Cumulative_YoutubeSess_UMTS_DL_Volume  Max_RSRQ    Max_SNR  \\\n",
       "User_Satisfaction                                                               \n",
       "0                                           22299.533970 -5.251063  10.553766   \n",
       "1                                           19486.853098 -5.498790   7.632793   \n",
       "\n",
       "                   Cumulative_Full_Service_Time_UMTS  \\\n",
       "User_Satisfaction                                      \n",
       "0                                       76232.039625   \n",
       "1                                       60674.434898   \n",
       "\n",
       "                   Cumulative_Lim_Service_Time_UMTS  \\\n",
       "User_Satisfaction                                     \n",
       "0                                       3568.055587   \n",
       "1                                       4286.820426   \n",
       "\n",
       "                   Cumulative_No_Service_Time_UMTS  \\\n",
       "User_Satisfaction                                    \n",
       "0                                      1846.150798   \n",
       "1                                      1946.305905   \n",
       "\n",
       "                   Cumulative_Full_Service_Time_LTE  \\\n",
       "User_Satisfaction                                     \n",
       "0                                     162665.666560   \n",
       "1                                     145873.178848   \n",
       "\n",
       "                   Cumulative_Lim_Service_Time_LTE  \\\n",
       "User_Satisfaction                                    \n",
       "0                                      2826.703858   \n",
       "1                                      3096.002904   \n",
       "\n",
       "                   Cumulative_No_Service_Time_LTE  \n",
       "User_Satisfaction                                  \n",
       "0                                     5242.263255  \n",
       "1                                     5432.052275  "
      ]
     },
     "execution_count": 11,
     "metadata": {},
     "output_type": "execute_result"
    }
   ],
   "source": [
    "usertr.groupby('User_Satisfaction').mean()"
   ]
  },
  {
   "cell_type": "code",
   "execution_count": 12,
   "metadata": {},
   "outputs": [
    {
     "name": "stdout",
     "output_type": "stream",
     "text": [
      "We know 13 network measurements of 23713 users.\n",
      "Of these: 16599 users have reviewed the service, 7114 no.\n"
     ]
    }
   ],
   "source": [
    "print(f'We know {usertr.shape[1]-1} network measurements of {usertr.shape[0]+userte.shape[0]} users.')\n",
    "print(f'Of these: {usertr.shape[0]} users have reviewed the service, {userte.shape[0]} no.')"
   ]
  },
  {
   "cell_type": "code",
   "execution_count": 13,
   "metadata": {},
   "outputs": [
    {
     "name": "stdout",
     "output_type": "stream",
     "text": [
      "From 16599 users who have reviewed the service, 4132 aren't fulfilled, i.e. the 0.248930658473402 %\n"
     ]
    }
   ],
   "source": [
    "satisfacted = 0\n",
    "for count in range(usertr.shape[0]):\n",
    "    if usertr.User_Satisfaction[count]==1:\n",
    "        satisfacted += 1\n",
    "        \n",
    "print(f'From {usertr.shape[0]} users who have reviewed the service, {satisfacted} aren\\'t fulfilled, i.e. the {satisfacted/usertr.shape[0]} %')"
   ]
  },
  {
   "cell_type": "markdown",
   "metadata": {},
   "source": [
    "# Preprocessing"
   ]
  },
  {
   "cell_type": "code",
   "execution_count": 5,
   "metadata": {},
   "outputs": [
    {
     "name": "stderr",
     "output_type": "stream",
     "text": [
      "C:\\Users\\Riccardo\\Desktop\\Machine Learning for Networking - Challenge\\preprocessing.py:34: SettingWithCopyWarning: \n",
      "A value is trying to be set on a copy of a slice from a DataFrame\n",
      "\n",
      "See the caveats in the documentation: http://pandas.pydata.org/pandas-docs/stable/indexing.html#indexing-view-versus-copy\n",
      "  usertr.UMTS_speed[i]=b\n",
      "C:\\Users\\Riccardo\\Desktop\\Machine Learning for Networking - Challenge\\preprocessing.py:32: SettingWithCopyWarning: \n",
      "A value is trying to be set on a copy of a slice from a DataFrame\n",
      "\n",
      "See the caveats in the documentation: http://pandas.pydata.org/pandas-docs/stable/indexing.html#indexing-view-versus-copy\n",
      "  usertr.LTE_speed[i]=a\n"
     ]
    }
   ],
   "source": [
    "from preprocessing import preprocessing\n",
    "\n",
    "usertr = preprocessing(usertr)\n",
    "userte = preprocessing(userte)"
   ]
  },
  {
   "cell_type": "markdown",
   "metadata": {},
   "source": [
    "# Splitting the dataset"
   ]
  },
  {
   "cell_type": "markdown",
   "metadata": {},
   "source": [
    "#### with Preprocessing"
   ]
  },
  {
   "cell_type": "code",
   "execution_count": 17,
   "metadata": {},
   "outputs": [],
   "source": [
    "feature_names = [\"Cumulative_YoutubeSess_LTE_DL_Time\",\"Cumulative_YoutubeSess_LTE_DL_Volume\",\"Cumulative_YoutubeSess_UMTS_DL_Time\",\"Cumulative_YoutubeSess_UMTS_DL_Volume\",\"Max_SNR\",\"LTE_speed\",\"UMTS_speed\",\"UMTS_full\",\"UMTS_lim\",\"UMTS_no\",\"LTE_full\",\"LTE_lim\",\"LTE_no\",]\n",
    "minimal = [\"LTE_speed\",\"UMTS_speed\",\"UMTS_full\",\"LTE_full\"]\n",
    "X_train = usertr[feature_names]\n",
    "y_train = usertr['User_Satisfaction']\n",
    "X_test = userte[feature_names]"
   ]
  },
  {
   "cell_type": "code",
   "execution_count": 15,
   "metadata": {},
   "outputs": [],
   "source": [
    "from scipy import stats\n",
    "X_train=stats.zscore(X_train)\n",
    "X_test=stats.zscore(X_test)"
   ]
  },
  {
   "cell_type": "markdown",
   "metadata": {},
   "source": [
    "#### without Preprocessing"
   ]
  },
  {
   "cell_type": "code",
   "execution_count": 14,
   "metadata": {},
   "outputs": [],
   "source": [
    "feature_names = ['User_Id','Cumulative_YoutubeSess_LTE_DL_Time','Cumulative_YoutubeSess_LTE_DL_Volume','Cumulative_YoutubeSess_UMTS_DL_Time','Cumulative_YoutubeSess_UMTS_DL_Volume','Max_RSRQ','Max_SNR','Cumulative_Full_Service_Time_UMTS','Cumulative_Lim_Service_Time_UMTS','Cumulative_No_Service_Time_UMTS','Cumulative_Full_Service_Time_LTE','Cumulative_Lim_Service_Time_LTE','Cumulative_No_Service_Time_LTE',]\n",
    "X_train = usertr[feature_names]\n",
    "y_train = usertr['User_Satisfaction']\n",
    "X_test = userte[feature_names]"
   ]
  },
  {
   "cell_type": "markdown",
   "metadata": {},
   "source": [
    "# Linear Regression"
   ]
  },
  {
   "cell_type": "code",
   "execution_count": 20,
   "metadata": {},
   "outputs": [],
   "source": [
    "from sklearn import datasets, linear_model\n",
    "import numpy \n",
    "\n",
    "\n",
    "regr = linear_model.LinearRegression()\n",
    "regr.fit(X_train, y_train)\n",
    "pred = regr.predict(X_test)\n",
    "pred1 = []\n",
    "a = 0\n",
    "for i in pred:\n",
    "    pred1.append([int(User_Id[a]),int(i)])\n",
    "    a += 1\n",
    "    \n",
    "numpy.savetxt(\"predictions\\\\lrpredpp.csv\", pred1, fmt='%10i',delimiter=\",\")"
   ]
  },
  {
   "cell_type": "markdown",
   "metadata": {},
   "source": [
    "# Perceptron"
   ]
  },
  {
   "cell_type": "code",
   "execution_count": 13,
   "metadata": {},
   "outputs": [],
   "source": [
    "import numpy as np\n",
    "from perceptron import Perceptron\n",
    "\n",
    "\n",
    "perceptron = Perceptron(13)\n",
    "perceptron.train(X_train, y_train)"
   ]
  },
  {
   "cell_type": "code",
   "execution_count": 15,
   "metadata": {},
   "outputs": [],
   "source": [
    "pred = []\n",
    "for i in range(User_Id.shape[0]):\n",
    "    a=int(perceptron.predict(X_test[i]))\n",
    "    pred.append([int(User_Id[i]),a])\n",
    "    \n",
    "np.savetxt(\"predictions\\\\perceptronpp4.csv\", pred, fmt='%10i',delimiter=\",\")"
   ]
  },
  {
   "cell_type": "code",
   "execution_count": 16,
   "metadata": {},
   "outputs": [
    {
     "data": {
      "text/plain": [
       "0.258644925499016"
      ]
     },
     "execution_count": 16,
     "metadata": {},
     "output_type": "execute_result"
    }
   ],
   "source": [
    "cont=0\n",
    "for i in range(User_Id.shape[0]):\n",
    "    if pred[i][1]==1:\n",
    "        cont=cont+1\n",
    "prev=cont/User_Id.shape[0]\n",
    "prev"
   ]
  },
  {
   "cell_type": "markdown",
   "metadata": {},
   "source": [
    "# K-Nearest Neighbors"
   ]
  },
  {
   "cell_type": "code",
   "execution_count": 40,
   "metadata": {},
   "outputs": [
    {
     "name": "stdout",
     "output_type": "stream",
     "text": [
      "Accuracy of K-NN classifier on training set: 0.81\n"
     ]
    }
   ],
   "source": [
    "from KNearestNeighbors import KNearestNeighborsA\n",
    "\n",
    "KNearestNeighborsA (X_train, y_train, X_test, User_Id)"
   ]
  },
  {
   "cell_type": "markdown",
   "metadata": {},
   "source": [
    "# Decision Tree"
   ]
  },
  {
   "cell_type": "code",
   "execution_count": 17,
   "metadata": {},
   "outputs": [
    {
     "name": "stdout",
     "output_type": "stream",
     "text": [
      "Accuracy of Decision Tree classifier on training set: 1.00\n"
     ]
    }
   ],
   "source": [
    "from DecisionTree import DecisionTreeA\n",
    "\n",
    "DecisionTreeA (X_train, y_train, X_test,User_Id)"
   ]
  },
  {
   "cell_type": "markdown",
   "metadata": {},
   "source": [
    "## Decision Tree + Over-sampling followed by under-sampling"
   ]
  },
  {
   "cell_type": "code",
   "execution_count": 92,
   "metadata": {},
   "outputs": [
    {
     "name": "stdout",
     "output_type": "stream",
     "text": [
      "Accuracy of Decision Tree classifier on training set: 1.00\n"
     ]
    }
   ],
   "source": [
    "from Imbalanced import OverSampleUnderSampleA\n",
    "\n",
    "X_smt, y_smt = OverSampleUnderSampleA (X_train, y_train)\n",
    "DecisionTreeA (X_smt, y_smt, X_test, User_Id)"
   ]
  },
  {
   "cell_type": "markdown",
   "metadata": {},
   "source": [
    "## Decision Tree + Random under-sampling and over-sampling"
   ]
  },
  {
   "cell_type": "code",
   "execution_count": 42,
   "metadata": {},
   "outputs": [
    {
     "name": "stdout",
     "output_type": "stream",
     "text": [
      "Removed indexes: [ 6286  1982   800 ... 16592 16597 16598]\n"
     ]
    },
    {
     "ename": "TypeError",
     "evalue": "DecisionTreeA() missing 1 required positional argument: 'User_Id'",
     "output_type": "error",
     "traceback": [
      "\u001b[1;31m---------------------------------------------------------------------------\u001b[0m",
      "\u001b[1;31mTypeError\u001b[0m                                 Traceback (most recent call last)",
      "\u001b[1;32m<ipython-input-42-17975831bb3b>\u001b[0m in \u001b[0;36m<module>\u001b[1;34m\u001b[0m\n\u001b[0;32m      2\u001b[0m \u001b[1;33m\u001b[0m\u001b[0m\n\u001b[0;32m      3\u001b[0m \u001b[0mX_t\u001b[0m\u001b[1;33m,\u001b[0m \u001b[0my_t\u001b[0m \u001b[1;33m=\u001b[0m \u001b[0mRandomUSOSA\u001b[0m \u001b[1;33m(\u001b[0m\u001b[0mX_train\u001b[0m\u001b[1;33m,\u001b[0m \u001b[0my_train\u001b[0m\u001b[1;33m)\u001b[0m\u001b[1;33m\u001b[0m\u001b[1;33m\u001b[0m\u001b[0m\n\u001b[1;32m----> 4\u001b[1;33m \u001b[0mDecisionTreeA\u001b[0m \u001b[1;33m(\u001b[0m\u001b[0mX_t\u001b[0m\u001b[1;33m,\u001b[0m \u001b[0my_t\u001b[0m\u001b[1;33m,\u001b[0m \u001b[0mX_test\u001b[0m\u001b[1;33m)\u001b[0m\u001b[1;33m\u001b[0m\u001b[1;33m\u001b[0m\u001b[0m\n\u001b[0m",
      "\u001b[1;31mTypeError\u001b[0m: DecisionTreeA() missing 1 required positional argument: 'User_Id'"
     ]
    }
   ],
   "source": [
    "from Imbalanced import RandomUSOSA\n",
    "\n",
    "X_t, y_t = RandomUSOSA (X_train, y_train)\n",
    "DecisionTreeA (X_t, y_t, X_test, User_Id)"
   ]
  },
  {
   "cell_type": "code",
   "execution_count": null,
   "metadata": {},
   "outputs": [],
   "source": []
  }
 ],
 "metadata": {
  "kernelspec": {
   "display_name": "Python 3",
   "language": "python",
   "name": "python3"
  },
  "language_info": {
   "codemirror_mode": {
    "name": "ipython",
    "version": 3
   },
   "file_extension": ".py",
   "mimetype": "text/x-python",
   "name": "python",
   "nbconvert_exporter": "python",
   "pygments_lexer": "ipython3",
   "version": "3.7.2"
  }
 },
 "nbformat": 4,
 "nbformat_minor": 2
}
